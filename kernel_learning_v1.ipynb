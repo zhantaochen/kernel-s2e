{
 "cells": [
  {
   "cell_type": "code",
   "execution_count": 1,
   "metadata": {},
   "outputs": [],
   "source": [
    "%load_ext autoreload\n",
    "%autoreload 2"
   ]
  },
  {
   "cell_type": "code",
   "execution_count": 2,
   "metadata": {},
   "outputs": [],
   "source": [
    "import torch\n",
    "from kernel_learning import *\n",
    "from src.sqw import SpecNeuralRepr\n",
    "from src.kernel import L_Kernel\n",
    "torch.set_default_dtype(torch.float32)"
   ]
  },
  {
   "cell_type": "markdown",
   "metadata": {},
   "source": [
    "Train kernel net and background net"
   ]
  },
  {
   "cell_type": "code",
   "execution_count": 3,
   "metadata": {},
   "outputs": [
    {
     "name": "stderr",
     "output_type": "stream",
     "text": [
      "/pscratch/sd/y/yn754/envs/S2e/lib/python3.13/site-packages/lightning_fabric/plugins/environments/slurm.py:204: The `srun` command is available on your system but is not used. HINT: If your intention is to run Lightning on SLURM, prepend your python command with `srun` like so: srun python /pscratch/sd/y/yn754/envs/S2e/lib/python3.13/site-pa ...\n",
      "GPU available: True (cuda), used: True\n",
      "TPU available: False, using: 0 TPU cores\n",
      "HPU available: False, using: 0 HPUs\n",
      "/pscratch/sd/y/yn754/envs/S2e/lib/python3.13/site-packages/pytorch_lightning/trainer/connectors/logger_connector/logger_connector.py:76: Starting from v1.9.0, `tensorboardX` has been removed as a dependency of the `pytorch_lightning` package, due to potential conflicts with other packages in the ML ecosystem. For this reason, `logger=True` will use `CSVLogger` as the default logger, unless the `tensorboard` or `tensorboardX` packages are found. Please `pip install lightning[extra]` or one of them to enable TensorBoard support by default\n",
      "/pscratch/sd/y/yn754/envs/S2e/lib/python3.13/site-packages/pytorch_lightning/trainer/configuration_validator.py:70: You defined a `validation_step` but have no `val_dataloader`. Skipping val loop.\n",
      "You are using a CUDA device ('NVIDIA A100-PCIE-40GB') that has Tensor Cores. To properly utilize them, you should set `torch.set_float32_matmul_precision('medium' | 'high')` which will trade-off precision for performance. For more details, read https://pytorch.org/docs/stable/generated/torch.set_float32_matmul_precision.html#torch.set_float32_matmul_precision\n",
      "LOCAL_RANK: 0 - CUDA_VISIBLE_DEVICES: [0]\n",
      "\n",
      "  | Name          | Type           | Params | Mode \n",
      "---------------------------------------------------------\n",
      "0 | kernel_net    | KernelNet      | 562 K  | train\n",
      "1 | bkgd_net      | SirenNet       | 133 K  | train\n",
      "2 | forward_model | SpecNeuralRepr | 529 K  | train\n",
      "---------------------------------------------------------\n",
      "1.2 M     Trainable params\n",
      "0         Non-trainable params\n",
      "1.2 M     Total params\n",
      "4.901     Total estimated model params size (MB)\n",
      "90        Modules in train mode\n",
      "0         Modules in eval mode\n",
      "/pscratch/sd/y/yn754/envs/S2e/lib/python3.13/site-packages/pytorch_lightning/trainer/connectors/data_connector.py:425: The 'train_dataloader' does not have many workers which may be a bottleneck. Consider increasing the value of the `num_workers` argument` to `num_workers=255` in the `DataLoader` to improve performance.\n"
     ]
    },
    {
     "name": "stdout",
     "output_type": "stream",
     "text": [
      "Epoch 49: 100%|██████████| 1000/1000 [00:10<00:00, 94.20it/s, v_num=0, train_reconst=4.360, train_bkg_mag=0.633, train_loss=4.990]  "
     ]
    },
    {
     "name": "stderr",
     "output_type": "stream",
     "text": [
      "`Trainer.fit` stopped: `max_epochs=50` reached.\n"
     ]
    },
    {
     "name": "stdout",
     "output_type": "stream",
     "text": [
      "Epoch 49: 100%|██████████| 1000/1000 [00:10<00:00, 93.78it/s, v_num=0, train_reconst=4.360, train_bkg_mag=0.633, train_loss=4.990]\n"
     ]
    }
   ],
   "source": [
    "data_path = '/pscratch/sd/y/yn754/data/S2e/summarized_neutron_data_w_bkg_260meV_ML.pt'\n",
    "checkpoint_dir = '/pscratch/sd/y/yn754/data/S2e/checkpoints/'\n",
    "SpecNeuralRepr_ckpt = '/pscratch/sd/y/yn754/data/S2e/input/version_14896845/checkpoints/epoch=7160-step=343728.ckpt' #checkpoint for forward model\n",
    "\n",
    "# Load and preprocess data\n",
    "data_dict = load_data(data_path)\n",
    "hklw_grid, interior_points = preprocess_data(data_dict)\n",
    "\n",
    "model_sqw = SpecNeuralRepr()\n",
    "model_sqw.params = torch.tensor([29, 1.7])\n",
    "\n",
    "#Configurations\n",
    "config = {'model_config': {'dim': 4,\n",
    "                     'neighbor_range': 1,\n",
    "                     'exclude_corner': True,\n",
    "                     'hidden_dim': 256,\n",
    "                     'num_layers': 3,\n",
    "                     'scale_factor_initial': 300.,\n",
    "                 }\n",
    "    }\n",
    "\n",
    "# Prepare dataset and dataloader\n",
    "dataset = NeighborDataset(hklw_grid, data_dict['S'], neighbor_range= config['model_config']['neighbor_range'])\n",
    "dataloader = DataLoader(dataset, batch_size=2, shuffle=True)\n",
    "\n",
    "# Train model\n",
    "kernel_model = L_Kernel(forward_model=model_sqw, model_config = config['model_config']).to(model_sqw.device)\n",
    "train_model(kernel_model, dataloader,max_epochs=50, limit_train_batches = 1000,checkpoint_dir=checkpoint_dir,save_best=False)"
   ]
  },
  {
   "cell_type": "markdown",
   "metadata": {},
   "source": [
    "Test"
   ]
  },
  {
   "cell_type": "code",
   "execution_count": 5,
   "metadata": {},
   "outputs": [],
   "source": [
    "from src.data_utils import get_neighbors\n",
    "import numpy as np\n",
    "from scipy.ndimage import binary_erosion\n",
    "from src.qpath import linspace_2D_equidistant\n",
    "import matplotlib.pyplot as plt\n",
    "from src.data_utils import get_neighbors, func_index_tensor\n",
    "# from src.siren import SirenNet\n",
    "# from src.dataset import NeighborDataset\n",
    "# from torch.utils.data import DataLoader"
   ]
  },
  {
   "cell_type": "code",
   "execution_count": 8,
   "metadata": {},
   "outputs": [
    {
     "name": "stderr",
     "output_type": "stream",
     "text": [
      "/tmp/ipykernel_26129/878424049.py:22: FutureWarning: You are using `torch.load` with `weights_only=False` (the current default value), which uses the default pickle module implicitly. It is possible to construct malicious pickle data which will execute arbitrary code during unpickling (See https://github.com/pytorch/pytorch/blob/main/SECURITY.md#untrusted-models for more details). In a future release, the default value for `weights_only` will be flipped to `True`. This limits the functions that could be executed during unpickling. Arbitrary objects will no longer be allowed to be loaded via this mode unless they are explicitly allowlisted by the user via `torch.serialization.add_safe_globals`. We recommend you start setting `weights_only=True` for any use case where you don't have full control of the loaded file. Please open an issue on GitHub for any issues related to this experimental feature.\n",
      "  model_config = torch.load(ckpt_path)['hyper_parameters']['model_config']\n"
     ]
    }
   ],
   "source": [
    "### load data and forward model##########\n",
    "data_path = '/pscratch/sd/y/yn754/data/S2e/summarized_neutron_data_w_bkg_260meV_ML.pt'\n",
    "\n",
    "### old training########################\n",
    "best_ckpt = '/pscratch/sd/y/yn754/data/S2e/input/version_14896845/checkpoints/epoch=7160-step=343728.ckpt' #checkpoint for forward model\n",
    "model_sqw0 = load_trained_model(best_ckpt) #specify forward model\n",
    "model_sqw0.params = torch.tensor([29, 1.7])\n",
    "#########################################\n",
    "\n",
    "### load from new checkpoint ##########\n",
    "#checkpoint_dir = '/global/homes/y/yn754/kernel-s2e/lightning_logs/version_24/checkpoints/'\n",
    "checkpoint_dir = '/pscratch/sd/y/yn754/data/S2e/checkpoints/lightning_logs/version_0/checkpoints/'\n",
    "ckpt_path = checkpoint_dir + 'epoch=49-step=50000.ckpt'\n",
    "#######################################\n",
    "\n",
    "model_sqw = SpecNeuralRepr()\n",
    "model_sqw.params = torch.tensor([29, 1.7])\n",
    "model = L_Kernel.load_from_checkpoint(ckpt_path,forward_model = model_sqw )\n",
    "model_sqw = model.forward_model \n",
    "model_sqw.params\n",
    "\n",
    "model_config = torch.load(ckpt_path)['hyper_parameters']['model_config']\n"
   ]
  },
  {
   "cell_type": "code",
   "execution_count": 9,
   "metadata": {},
   "outputs": [
    {
     "data": {
      "text/plain": [
       "{'dim': 4,\n",
       " 'neighbor_range': 1,\n",
       " 'exclude_corner': True,\n",
       " 'hidden_dim': 256,\n",
       " 'num_layers': 3,\n",
       " 'scale_factor_initial': 300.0}"
      ]
     },
     "execution_count": 9,
     "metadata": {},
     "output_type": "execute_result"
    }
   ],
   "source": [
    "model_config"
   ]
  },
  {
   "cell_type": "code",
   "execution_count": 10,
   "metadata": {},
   "outputs": [
    {
     "name": "stdout",
     "output_type": "stream",
     "text": [
      "dict_keys(['grid', 'S', 'background', 'background_dict'])\n"
     ]
    }
   ],
   "source": [
    "#load data\n",
    "data_dict = torch.load('/pscratch/sd/y/yn754/data/S2e/summarized_neutron_data_w_bkg_260meV_ML.pt',weights_only=False)\n",
    "print(data_dict.keys())"
   ]
  },
  {
   "cell_type": "code",
   "execution_count": 11,
   "metadata": {},
   "outputs": [
    {
     "data": {
      "text/plain": [
       "tensor([-10.0000,  -9.5000,  -9.0000,  -8.5000,  -8.0000,  -7.5000,  -7.0000,\n",
       "         -6.5000,  -6.0000,  -5.5000,  -5.0000,  -4.5000,  -4.0000,  -3.5000,\n",
       "         -3.0000,  -2.5000,  -2.0000,  -1.5000,  -1.0000,  -0.5000,   0.0000,\n",
       "          0.5000,   1.0000,   1.5000,   2.0000,   2.5000,   3.0000,   3.5000,\n",
       "          4.0000,   4.5000], dtype=torch.float64)"
      ]
     },
     "execution_count": 11,
     "metadata": {},
     "output_type": "execute_result"
    }
   ],
   "source": [
    "data_dict['grid']['l_grid']"
   ]
  },
  {
   "cell_type": "code",
   "execution_count": 12,
   "metadata": {},
   "outputs": [],
   "source": [
    "hklw_grid = torch.vstack([_.unsqueeze(0) for _ in torch.meshgrid(*[v for k, v in data_dict['grid'].items()], indexing='ij')]).permute(1, 2, 3, 4, 0)\n",
    "kpts = torch.from_numpy(linspace_2D_equidistant([[0,0],[0.5,0],[0.5,0.5],[0,0]], 100))\n",
    "wpts = data_dict['grid']['w_grid']\n",
    "\n",
    "_l = data_dict['grid']['l_grid'][0]\n",
    "\n",
    "params = torch.tensor([29, 1.7])\n",
    "\n",
    "x_input = torch.zeros(wpts.shape[0], kpts.shape[0], 6)\n",
    "x_input[...,:4] = torch.cat([\n",
    "    kpts.unsqueeze(0).expand(wpts.shape[0], -1, -1),\n",
    "    _l * torch.ones(wpts.shape[0], kpts.shape[0], 1),\n",
    "    wpts.view(wpts.shape[0], -1).unsqueeze(1).expand(-1, kpts.shape[0], -1)\n",
    "   ], dim=2)\n",
    "x_input[...,4:] = params"
   ]
  },
  {
   "cell_type": "code",
   "execution_count": 13,
   "metadata": {},
   "outputs": [
    {
     "data": {
      "text/plain": [
       "<matplotlib.image.AxesImage at 0x7fd24baaa7b0>"
      ]
     },
     "execution_count": 13,
     "metadata": {},
     "output_type": "execute_result"
    },
    {
     "data": {
      "image/png": "[encoded data removed]",
      "text/plain": [
       "<Figure size 640x480 with 1 Axes>"
      ]
     },
     "metadata": {},
     "output_type": "display_data"
    }
   ],
   "source": [
    "#best from previous training\n",
    "S_pred = model_sqw0.forward_qwp(x_input.to(model_sqw0.device)).detach().cpu().numpy()\n",
    "\n",
    "plt.imshow(S_pred, origin='lower')"
   ]
  },
  {
   "cell_type": "code",
   "execution_count": 14,
   "metadata": {},
   "outputs": [
    {
     "data": {
      "text/plain": [
       "<matplotlib.image.AxesImage at 0x7fd06791d590>"
      ]
     },
     "execution_count": 14,
     "metadata": {},
     "output_type": "execute_result"
    },
    {
     "data": {
      "image/png": "[encoded data removed]",
      "text/plain": [
       "<Figure size 640x480 with 1 Axes>"
      ]
     },
     "metadata": {},
     "output_type": "display_data"
    }
   ],
   "source": [
    "#current\n",
    "S_pred = model_sqw.forward_qwp(x_input.to(model_sqw0.device)).detach().cpu().numpy()\n",
    "\n",
    "plt.imshow(S_pred, origin='lower')"
   ]
  },
  {
   "cell_type": "markdown",
   "metadata": {},
   "source": [
    "Evaluate"
   ]
  },
  {
   "cell_type": "code",
   "execution_count": 15,
   "metadata": {},
   "outputs": [],
   "source": [
    "idx_centers = torch.from_numpy(interior_points[:2])\n",
    "idx_neighbs, _ = get_neighbors(idx_centers, dim=model_config['dim'], neighbor_range=model_config['neighbor_range'], return_flat=False, exclude_corner=True)\n",
    "q_centers = func_index_tensor(hklw_grid, idx_centers)\n",
    "q_neighbs = func_index_tensor(hklw_grid, idx_neighbs)"
   ]
  },
  {
   "cell_type": "code",
   "execution_count": 16,
   "metadata": {},
   "outputs": [
    {
     "data": {
      "text/plain": [
       "KernelNet(\n",
       "  (kernel_net): Sequential(\n",
       "    (0): SirenNet(\n",
       "      (layers): ModuleList(\n",
       "        (0-2): 3 x Siren(\n",
       "          (activation): Sine()\n",
       "          (dropout): Dropout(p=0.0, inplace=False)\n",
       "        )\n",
       "      )\n",
       "      (last_layer): Siren(\n",
       "        (activation): ReLU()\n",
       "        (dropout): Dropout(p=0.0, inplace=False)\n",
       "      )\n",
       "    )\n",
       "    (1): Linear(in_features=256, out_features=256, bias=True)\n",
       "    (2): ReLU()\n",
       "    (3): Linear(in_features=256, out_features=65, bias=True)\n",
       "    (4): Softmax(dim=-1)\n",
       "  )\n",
       "  (sf_net): Sequential(\n",
       "    (0): SirenNet(\n",
       "      (layers): ModuleList(\n",
       "        (0-2): 3 x Siren(\n",
       "          (activation): Sine()\n",
       "          (dropout): Dropout(p=0.0, inplace=False)\n",
       "        )\n",
       "      )\n",
       "      (last_layer): Siren(\n",
       "        (activation): ReLU()\n",
       "        (dropout): Dropout(p=0.0, inplace=False)\n",
       "      )\n",
       "    )\n",
       "    (1): Linear(in_features=256, out_features=256, bias=True)\n",
       "    (2): ReLU()\n",
       "    (3): Linear(in_features=256, out_features=65, bias=True)\n",
       "    (4): ReLU()\n",
       "  )\n",
       ")"
      ]
     },
     "execution_count": 16,
     "metadata": {},
     "output_type": "execute_result"
    }
   ],
   "source": [
    "device = model_sqw.device\n",
    "dtype = model_sqw.dtype\n",
    "\n",
    "kernel_net = model.kernel_net\n",
    "kernel_net.to(device).to(dtype)"
   ]
  },
  {
   "cell_type": "code",
   "execution_count": 17,
   "metadata": {},
   "outputs": [
    {
     "data": {
      "text/plain": [
       "torch.Size([2, 3, 3, 3, 3, 65])"
      ]
     },
     "execution_count": 17,
     "metadata": {},
     "output_type": "execute_result"
    }
   ],
   "source": [
    "kernel_net(func_index_tensor(hklw_grid, idx_neighbs).to(model_sqw.device).to(model_sqw.dtype)).shape"
   ]
  },
  {
   "cell_type": "code",
   "execution_count": 18,
   "metadata": {},
   "outputs": [
    {
     "data": {
      "text/plain": [
       "torch.Size([2, 3, 3, 3, 3])"
      ]
     },
     "execution_count": 18,
     "metadata": {},
     "output_type": "execute_result"
    }
   ],
   "source": [
    "s_neighbors = model_sqw.forward_qw(q_neighbs.to(model_sqw.device).to(model_sqw.dtype))\n",
    "s_neighbors.shape"
   ]
  },
  {
   "cell_type": "code",
   "execution_count": 19,
   "metadata": {},
   "outputs": [
    {
     "name": "stdout",
     "output_type": "stream",
     "text": [
      "center_pts torch.Size([2, 4])\n",
      "neighb_pts torch.Size([2, 81, 4])\n",
      "neighb_mask torch.Size([2, 81])\n",
      "center_data torch.Size([2, 1])\n"
     ]
    }
   ],
   "source": [
    "batch = next(iter(dataloader))\n",
    "for k, v in batch.items():\n",
    "    print(k, v.shape)"
   ]
  },
  {
   "cell_type": "code",
   "execution_count": 20,
   "metadata": {},
   "outputs": [],
   "source": [
    "kappa = kernel_net(q_centers.to(model_sqw.device).to(model_sqw.dtype))\n",
    "neighb_data = model_sqw.forward_qw(batch['neighb_pts']).to(device).to(dtype)"
   ]
  },
  {
   "cell_type": "code",
   "execution_count": 21,
   "metadata": {},
   "outputs": [
    {
     "name": "stdout",
     "output_type": "stream",
     "text": [
      "(121, 121, 30, 91)\n",
      "(3515517, 4)\n"
     ]
    }
   ],
   "source": [
    "mask = data_dict['S'] > 1e-3\n",
    "eroded_mask = binary_erosion(mask, iterations=2)\n",
    "print(eroded_mask.shape)\n",
    "\n",
    "# Extract interior points\n",
    "interior_points = np.transpose(np.nonzero(eroded_mask))\n",
    "print(interior_points.shape)"
   ]
  },
  {
   "cell_type": "code",
   "execution_count": 22,
   "metadata": {},
   "outputs": [
    {
     "name": "stdout",
     "output_type": "stream",
     "text": [
      "tensor([[0.],\n",
      "        [0.]], device='cuda:0', grad_fn=<UnsqueezeBackward0>) tensor([[1.1096],\n",
      "        [2.2347]])\n"
     ]
    }
   ],
   "source": [
    "#s_pred = torch.einsum('ij, ij -> i', kappa, neighb_data)\n",
    "s_pred = torch.einsum('ij, ij -> i', kappa, neighb_data[:, kernel_net.kernel_mask_flat]).unsqueeze(-1)\n",
    "s_target = batch['center_data']\n",
    "print(s_pred, s_target)"
   ]
  },
  {
   "cell_type": "code",
   "execution_count": 23,
   "metadata": {},
   "outputs": [
    {
     "data": {
      "text/plain": [
       "(tensor(2.0696, grad_fn=<MseLossBackward0>),\n",
       " tensor(0.4703, device='cuda:0', grad_fn=<MulBackward0>))"
      ]
     },
     "execution_count": 23,
     "metadata": {},
     "output_type": "execute_result"
    }
   ],
   "source": [
    "kernel_model.to(device).compute_metrics_on_batch(batch)\n",
    "\n",
    "#L_model = L_Kernel(forward_model=model_sqw, dim=4, neighbor_range=2, exclude_corner=True).to(device)"
   ]
  }
 ],
 "metadata": {
  "kernelspec": {
   "display_name": "NERSC Python",
   "language": "python",
   "name": "python3"
  },
  "language_info": {
   "codemirror_mode": {
    "name": "ipython",
    "version": 3
   },
   "file_extension": ".py",
   "mimetype": "text/x-python",
   "name": "python",
   "nbconvert_exporter": "python",
   "pygments_lexer": "ipython3",
   "version": "3.11.7"
  }
 },
 "nbformat": 4,
 "nbformat_minor": 4
}
