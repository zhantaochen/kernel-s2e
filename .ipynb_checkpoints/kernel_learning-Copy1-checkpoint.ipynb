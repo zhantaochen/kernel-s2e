{
 "cells": [
  {
   "cell_type": "code",
   "execution_count": 1,
   "metadata": {},
   "outputs": [],
   "source": [
    "%load_ext autoreload\n",
    "%autoreload 2"
   ]
  },
  {
   "cell_type": "code",
   "execution_count": 2,
   "metadata": {},
   "outputs": [],
   "source": [
    "import torch\n",
    "\n",
    "torch.set_default_dtype(torch.float32)"
   ]
  },
  {
   "cell_type": "code",
   "execution_count": 3,
   "metadata": {},
   "outputs": [
    {
     "name": "stdout",
     "output_type": "stream",
     "text": [
      "dict_keys(['grid', 'S', 'background', 'background_dict'])\n"
     ]
    }
   ],
   "source": [
    "data_dict = torch.load('../../data/summarized_neutron_data_w_bkg_260meV_ML.pt')\n",
    "print(data_dict.keys())"
   ]
  },
  {
   "cell_type": "code",
   "execution_count": 4,
   "metadata": {},
   "outputs": [
    {
     "data": {
      "text/plain": [
       "tensor([-10.0000,  -9.5000,  -9.0000,  -8.5000,  -8.0000,  -7.5000,  -7.0000,\n",
       "         -6.5000,  -6.0000,  -5.5000,  -5.0000,  -4.5000,  -4.0000,  -3.5000,\n",
       "         -3.0000,  -2.5000,  -2.0000,  -1.5000,  -1.0000,  -0.5000,   0.0000,\n",
       "          0.5000,   1.0000,   1.5000,   2.0000,   2.5000,   3.0000,   3.5000,\n",
       "          4.0000,   4.5000], dtype=torch.float64)"
      ]
     },
     "execution_count": 4,
     "metadata": {},
     "output_type": "execute_result"
    }
   ],
   "source": [
    "data_dict['grid']['l_grid']"
   ]
  },
  {
   "cell_type": "code",
   "execution_count": 5,
   "metadata": {},
   "outputs": [],
   "source": [
    "hklw_grid = torch.vstack([_.unsqueeze(0) for _ in torch.meshgrid(*[v for k, v in data_dict['grid'].items()], indexing='ij')]).permute(1, 2, 3, 4, 0)"
   ]
  },
  {
   "cell_type": "code",
   "execution_count": 6,
   "metadata": {},
   "outputs": [],
   "source": [
    "mask = data_dict['S'] > 1e-3"
   ]
  },
  {
   "cell_type": "code",
   "execution_count": 7,
   "metadata": {},
   "outputs": [
    {
     "name": "stdout",
     "output_type": "stream",
     "text": [
      "Interior Points:\n",
      "[[  2   2   7   2]\n",
      " [  2   2   7  10]\n",
      " [  2   2   7  14]\n",
      " ...\n",
      " [118 118  17  25]\n",
      " [118 118  18  22]\n",
      " [118 118  18  23]]\n"
     ]
    }
   ],
   "source": [
    "import numpy as np\n",
    "from scipy.ndimage import binary_erosion\n",
    "\n",
    "# Erode the mask to remove boundary points\n",
    "eroded_mask = binary_erosion(mask, iterations=2)\n",
    "\n",
    "# Extract interior points\n",
    "interior_points = np.transpose(np.nonzero(eroded_mask))\n",
    "\n",
    "print(\"Interior Points:\")\n",
    "print(interior_points)"
   ]
  },
  {
   "cell_type": "code",
   "execution_count": 23,
   "metadata": {
    "tags": []
   },
   "outputs": [],
   "source": [
    "from src.data_utils import get_neighbors"
   ]
  },
  {
   "cell_type": "code",
   "execution_count": 24,
   "metadata": {},
   "outputs": [],
   "source": [
    "# 2D example\n",
    "# index = torch.tensor([[0, 0], [4, 5], [6, 7]])\n",
    "# neighbors = get_neighbors(index, dim=2, neighbor_range=1, return_flat=False)\n",
    "\n",
    "# 3D example\n",
    "index = torch.tensor([[1, 2, 3], [5, 6, 7]])\n",
    "neighbors = get_neighbors(index, dim=3, neighbor_range=1, return_flat=False)"
   ]
  },
  {
   "cell_type": "code",
   "execution_count": 25,
   "metadata": {},
   "outputs": [],
   "source": [
    "from src.sqw import SpecNeuralRepr"
   ]
  },
  {
   "cell_type": "code",
   "execution_count": 26,
   "metadata": {},
   "outputs": [],
   "source": [
    "model_sqw = SpecNeuralRepr.load_from_checkpoint('input/version_14896845/checkpoints/epoch=7160-step=343728.ckpt')"
   ]
  },
  {
   "cell_type": "code",
   "execution_count": 27,
   "metadata": {},
   "outputs": [],
   "source": [
    "from src.qpath import linspace_2D_equidistant\n",
    "\n",
    "kpts = torch.from_numpy(linspace_2D_equidistant([[0,0],[0.5,0],[0.5,0.5],[0,0]], 100))\n",
    "wpts = data_dict['grid']['w_grid']"
   ]
  },
  {
   "cell_type": "code",
   "execution_count": 28,
   "metadata": {},
   "outputs": [],
   "source": [
    "_l = data_dict['grid']['l_grid'][0]\n",
    "\n",
    "params = torch.tensor([29, 1.7])\n",
    "\n",
    "x_input = torch.zeros(wpts.shape[0], kpts.shape[0], 6)\n",
    "x_input[...,:4] = torch.cat([\n",
    "    kpts.unsqueeze(0).expand(wpts.shape[0], -1, -1),\n",
    "    _l * torch.ones(wpts.shape[0], kpts.shape[0], 1),\n",
    "    wpts.view(wpts.shape[0], -1).unsqueeze(1).expand(-1, kpts.shape[0], -1)\n",
    "   ], dim=2)\n",
    "x_input[...,4:] = params"
   ]
  },
  {
   "cell_type": "code",
   "execution_count": 29,
   "metadata": {},
   "outputs": [],
   "source": [
    "S_pred = model_sqw.forward_qwp(x_input.to(model_sqw.device)).detach().cpu().numpy()"
   ]
  },
  {
   "cell_type": "code",
   "execution_count": 30,
   "metadata": {},
   "outputs": [
    {
     "data": {
      "text/plain": [
       "<matplotlib.image.AxesImage at 0x7f4e8ee0ea30>"
      ]
     },
     "execution_count": 30,
     "metadata": {},
     "output_type": "execute_result"
    },
    {
     "data": {
      "image/png": "[encoded data removed]",
      "text/plain": [
       "<Figure size 640x480 with 1 Axes>"
      ]
     },
     "metadata": {},
     "output_type": "display_data"
    }
   ],
   "source": [
    "import matplotlib.pyplot as plt\n",
    "\n",
    "plt.imshow(S_pred, origin='lower')"
   ]
  },
  {
   "cell_type": "code",
   "execution_count": 41,
   "metadata": {},
   "outputs": [],
   "source": [
    "from src.data_utils import get_neighbors, func_index_tensor\n",
    "\n",
    "idx_centers = torch.from_numpy(interior_points[:2])\n",
    "idx_neighbs, _ = get_neighbors(idx_centers, dim=4, neighbor_range=1, return_flat=False, exclude_corner=True)"
   ]
  },
  {
   "cell_type": "code",
   "execution_count": 42,
   "metadata": {},
   "outputs": [],
   "source": [
    "model_sqw.params = torch.tensor([29, 1.7])"
   ]
  },
  {
   "cell_type": "code",
   "execution_count": 43,
   "metadata": {},
   "outputs": [],
   "source": [
    "from src.siren import SirenNet"
   ]
  },
  {
   "cell_type": "code",
   "execution_count": 44,
   "metadata": {},
   "outputs": [],
   "source": [
    "kernel_net = torch.nn.Sequential(\n",
    "    SirenNet(\n",
    "        dim_in = 4,\n",
    "        dim_hidden = 256,\n",
    "        dim_out = 256,\n",
    "        num_layers = 3,\n",
    "        w0_initial = 30.,\n",
    "        final_activation = torch.nn.ReLU()\n",
    "    ),\n",
    "    torch.nn.Linear(256, 256),\n",
    "    torch.nn.ReLU(),\n",
    "    torch.nn.Linear(256, 5**4),\n",
    "    torch.nn.Softmax(dim=-1)\n",
    ")\n",
    "\n",
    "kernel_net.to(model_sqw.device);"
   ]
  },
  {
   "cell_type": "code",
   "execution_count": 45,
   "metadata": {},
   "outputs": [],
   "source": [
    "q_centers = func_index_tensor(hklw_grid, idx_centers)\n",
    "q_neighbs = func_index_tensor(hklw_grid, idx_neighbs)"
   ]
  },
  {
   "cell_type": "code",
   "execution_count": 46,
   "metadata": {},
   "outputs": [
    {
     "data": {
      "text/plain": [
       "torch.Size([2, 3, 3, 3, 3, 625])"
      ]
     },
     "execution_count": 46,
     "metadata": {},
     "output_type": "execute_result"
    }
   ],
   "source": [
    "kernel_net(func_index_tensor(hklw_grid, idx_neighbs).to(model_sqw.device).to(model_sqw.dtype)).shape"
   ]
  },
  {
   "cell_type": "code",
   "execution_count": 47,
   "metadata": {},
   "outputs": [],
   "source": [
    "kappa = kernel_net(q_centers.to(model_sqw.device).to(model_sqw.dtype))"
   ]
  },
  {
   "cell_type": "code",
   "execution_count": 48,
   "metadata": {},
   "outputs": [],
   "source": [
    "s_neighbors = model_sqw.forward_qw(q_neighbs.to(model_sqw.device).to(model_sqw.dtype))"
   ]
  },
  {
   "cell_type": "code",
   "execution_count": 49,
   "metadata": {},
   "outputs": [
    {
     "data": {
      "text/plain": [
       "torch.Size([2, 3, 3, 3, 3])"
      ]
     },
     "execution_count": 49,
     "metadata": {},
     "output_type": "execute_result"
    }
   ],
   "source": [
    "s_neighbors.shape"
   ]
  },
  {
   "cell_type": "code",
   "execution_count": 50,
   "metadata": {},
   "outputs": [],
   "source": [
    "from src.dataset import NeighborDataset"
   ]
  },
  {
   "cell_type": "code",
   "execution_count": 51,
   "metadata": {},
   "outputs": [],
   "source": [
    "dataset = NeighborDataset(hklw_grid, data_dict['S'], neighbor_range=2)"
   ]
  },
  {
   "cell_type": "code",
   "execution_count": 52,
   "metadata": {},
   "outputs": [],
   "source": [
    "from torch.utils.data import DataLoader"
   ]
  },
  {
   "cell_type": "code",
   "execution_count": 53,
   "metadata": {},
   "outputs": [],
   "source": [
    "dataloader = DataLoader(dataset, batch_size=2, shuffle=False)"
   ]
  },
  {
   "cell_type": "code",
   "execution_count": 54,
   "metadata": {},
   "outputs": [],
   "source": [
    "batch = next(iter(dataloader))"
   ]
  },
  {
   "cell_type": "code",
   "execution_count": 55,
   "metadata": {},
   "outputs": [
    {
     "name": "stdout",
     "output_type": "stream",
     "text": [
      "center_pts torch.Size([2, 4])\n",
      "neighb_pts torch.Size([2, 625, 4])\n",
      "neighb_mask torch.Size([2, 625])\n",
      "center_data torch.Size([2, 1])\n"
     ]
    }
   ],
   "source": [
    "for k, v in batch.items():\n",
    "    print(k, v.shape)\n",
    "    \n",
    "device = model_sqw.device\n",
    "dtype = model_sqw.dtype\n",
    "\n",
    "kernel_net.to(device).to(dtype);"
   ]
  },
  {
   "cell_type": "code",
   "execution_count": 56,
   "metadata": {},
   "outputs": [],
   "source": [
    "kappa = kernel_net(batch['center_pts'].to(device).to(dtype))\n",
    "neighb_data = model_sqw.forward_qw(batch['neighb_pts'].to(device).to(dtype))"
   ]
  },
  {
   "cell_type": "code",
   "execution_count": 57,
   "metadata": {},
   "outputs": [],
   "source": [
    "s_pred = torch.einsum('ij, ij -> i', kappa, neighb_data)"
   ]
  },
  {
   "cell_type": "code",
   "execution_count": 58,
   "metadata": {},
   "outputs": [],
   "source": [
    "s_target = batch['center_data']"
   ]
  },
  {
   "cell_type": "code",
   "execution_count": 59,
   "metadata": {},
   "outputs": [],
   "source": [
    "from src.kernel import KernelNet"
   ]
  },
  {
   "cell_type": "code",
   "execution_count": 66,
   "metadata": {},
   "outputs": [],
   "source": [
    "import torch\n",
    "import torch.nn as nn\n",
    "import lightning\n",
    "\n",
    "class L_Kernel(lightning.LightningModule):\n",
    "    def __init__(self, forward_model, dim=3, neighbor_range=1, exclude_corner=True):\n",
    "        super().__init__()\n",
    "        self.save_hyperparameters()\n",
    "        \n",
    "        self.dim = dim\n",
    "        self.neighbor_range = neighbor_range\n",
    "        self.exclude_corner = exclude_corner\n",
    "        \n",
    "        self.kernel_net = KernelNet(\n",
    "            dim=dim, neighbor_range=neighbor_range, \n",
    "            exclude_corner=exclude_corner)\n",
    "        # self.bkgd_net = SirenNet(\n",
    "        #         dim_in = dim,\n",
    "        #         dim_hidden = self.kernel_net.hidden_dim,\n",
    "        #         dim_out = 1,\n",
    "        #         num_layers = self.kernel_net.num_layers,\n",
    "        #         w0_initial = 30.,\n",
    "        #         final_activation = torch.nn.ReLU()\n",
    "        # )\n",
    "        self.forward_model = forward_model\n",
    "        \n",
    "    def forward(self, x):\n",
    "        return self.kernel_net(x)\n",
    "    \n",
    "    def compute_metrics_on_batch(self, batch):\n",
    "        kappa = self.forward(\n",
    "            batch['center_pts'].to(self.dtype).to(self.device))\n",
    "        neighb_data = self.forward_model.forward_qw(\n",
    "            batch['neighb_pts'].to(self.dtype).to(self.device))\n",
    "        s_sig = torch.einsum(\n",
    "            'ij, ij -> i', \n",
    "            kappa, neighb_data[:,self.kernel_net.kernel_mask_flat]\n",
    "        ).unsqueeze(-1)\n",
    "        s_pred = s_sig\n",
    "        # s_bkg = self.bkgd_net(batch['center_pts'].to(self.dtype).to(self.device))\n",
    "        # s_pred = s_sig + s_bkg\n",
    "        s_target = batch['center_data']\n",
    "        loss = torch.nn.functional.mse_loss(s_pred.cpu(), s_target.cpu())\n",
    "        return loss\n",
    "    \n",
    "    def training_step(self, batch, batch_idx):\n",
    "        loss = self.compute_metrics_on_batch(batch)\n",
    "        return loss\n",
    "    \n",
    "    def configure_optimizers(self):\n",
    "        optimizer = torch.optim.Adam(self.parameters(), lr=1e-3)\n",
    "        return optimizer"
   ]
  },
  {
   "cell_type": "code",
   "execution_count": 67,
   "metadata": {},
   "outputs": [],
   "source": [
    "from src.dataset import NeighborDataset\n",
    "from torch.utils.data import DataLoader"
   ]
  },
  {
   "cell_type": "code",
   "execution_count": 68,
   "metadata": {},
   "outputs": [],
   "source": [
    "dataset = NeighborDataset(hklw_grid, data_dict['S'], neighbor_range=2)\n",
    "dataloader = DataLoader(dataset, batch_size=2, shuffle=False)"
   ]
  },
  {
   "cell_type": "code",
   "execution_count": 69,
   "metadata": {},
   "outputs": [],
   "source": [
    "L_model = L_Kernel(forward_model=model_sqw, dim=4, neighbor_range=2, exclude_corner=True).to(device)"
   ]
  },
  {
   "cell_type": "code",
   "execution_count": 70,
   "metadata": {},
   "outputs": [],
   "source": [
    "batch = next(iter(dataloader))"
   ]
  },
  {
   "cell_type": "code",
   "execution_count": 71,
   "metadata": {},
   "outputs": [
    {
     "data": {
      "text/plain": [
       "tensor(133.3252, grad_fn=<MseLossBackward0>)"
      ]
     },
     "execution_count": 71,
     "metadata": {},
     "output_type": "execute_result"
    }
   ],
   "source": [
    "L_model.compute_metrics_on_batch(batch)"
   ]
  },
  {
   "cell_type": "code",
   "execution_count": null,
   "metadata": {},
   "outputs": [],
   "source": []
  }
 ],
 "metadata": {
  "kernelspec": {
   "display_name": "inxs",
   "language": "python",
   "name": "inxs"
  },
  "language_info": {
   "codemirror_mode": {
    "name": "ipython",
    "version": 3
   },
   "file_extension": ".py",
   "mimetype": "text/x-python",
   "name": "python",
   "nbconvert_exporter": "python",
   "pygments_lexer": "ipython3",
   "version": "3.9.17"
  }
 },
 "nbformat": 4,
 "nbformat_minor": 4
}
